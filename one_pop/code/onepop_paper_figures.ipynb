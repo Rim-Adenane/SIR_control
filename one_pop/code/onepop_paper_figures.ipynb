{
 "cells": [
  {
   "cell_type": "code",
   "execution_count": null,
   "metadata": {},
   "outputs": [],
   "source": [
    "from SIR_control import *\n",
    "import numpy as np\n",
    "import matplotlib.pyplot as plt\n",
    "plt.style.use('seaborn-poster')"
   ]
  },
  {
   "cell_type": "markdown",
   "metadata": {},
   "source": [
    "# Figure 1"
   ]
  },
  {
   "cell_type": "code",
   "execution_count": null,
   "metadata": {},
   "outputs": [],
   "source": [
    "fig=plot_phaseplane(beta=0.3,gamma=0.1)\n",
    "plt.savefig('one_pop/figures/sigma3.pdf')"
   ]
  },
  {
   "cell_type": "code",
   "execution_count": null,
   "metadata": {},
   "outputs": [],
   "source": [
    "fig=plot_phaseplane(beta=0.15,gamma=0.1)\n",
    "plt.savefig('one_pop/figures/sigma15.pdf')"
   ]
  },
  {
   "cell_type": "markdown",
   "metadata": {},
   "source": [
    "# Figure 2"
   ]
  },
  {
   "cell_type": "code",
   "execution_count": null,
   "metadata": {},
   "outputs": [],
   "source": [
    "x0=0.99\n",
    "y0 = 0.01\n",
    "\n",
    "def xinf_sigma(sigma):\n",
    "    return x_inf(x0, y0, sigma)\n",
    "\n",
    "from scipy.optimize import fsolve\n",
    "\n",
    "sigma0 = 3.\n",
    "myfun = lambda sigma: xinf_sigma(sigma) - 1/sigma0\n",
    "sigmastar = fsolve(myfun,sigma0)[0]\n",
    "qfun = lambda t, u: 1-sigmastar/sigma0\n",
    "1-sigmastar/sigma0"
   ]
  },
  {
   "cell_type": "code",
   "execution_count": null,
   "metadata": {},
   "outputs": [],
   "source": [
    "x1, y1, t1 = SIR_forward(qfun=qfun,T=1000)"
   ]
  },
  {
   "cell_type": "code",
   "execution_count": null,
   "metadata": {},
   "outputs": [],
   "source": [
    "def qfun(t,u):\n",
    "    if u[0]>1./sigma0: return 0\n",
    "    else: return 1\n",
    "    \n",
    "x2, y2, t2 = SIR_forward(qfun=qfun,T=1000)"
   ]
  },
  {
   "cell_type": "code",
   "execution_count": null,
   "metadata": {},
   "outputs": [],
   "source": [
    "fig=plot_phaseplane([x1,x2],[y1,y2])\n",
    "plt.savefig('one_pop/figures/twocontrols.pdf')"
   ]
  },
  {
   "cell_type": "markdown",
   "metadata": {},
   "source": [
    "# Figure 3"
   ]
  },
  {
   "cell_type": "code",
   "execution_count": null,
   "metadata": {},
   "outputs": [],
   "source": [
    "x0 = 0.7; y0 = 0.2\n",
    "switch_times=np.array([0,25])\n",
    "\n",
    "def qfun(t,u):\n",
    "    if np.argmax(t<switch_times) % 2 == 0: qval = 0\n",
    "    else: qval = 1\n",
    "    return qval\n",
    "        \n",
    "x1, y1, t1 = SIR_forward(qfun=qfun, x0=x0,y0=y0,T=54)"
   ]
  },
  {
   "cell_type": "code",
   "execution_count": null,
   "metadata": {},
   "outputs": [],
   "source": [
    "switch_times=np.array([8,16.5])\n",
    "\n",
    "def qfun(t,u):\n",
    "    if np.argmax(t<switch_times) % 2 == 0: qval = 0\n",
    "    else: qval = 1\n",
    "    return qval\n",
    "\n",
    "x2, y2, t2 = SIR_forward(qfun=qfun,x0=x0,y0=y0,T=16.5)"
   ]
  },
  {
   "cell_type": "code",
   "execution_count": null,
   "metadata": {},
   "outputs": [],
   "source": [
    "switch_times=np.array([2,4,6,8,10,12,14,16,18,20,21.6])\n",
    "\n",
    "def qfun(t,u):\n",
    "    if np.argmax(t<switch_times) % 2 == 0: qval = 0\n",
    "    else: qval = 1\n",
    "    return qval\n",
    "\n",
    "x3, y3, t3 = SIR_forward(qfun=qfun,x0=x0,y0=y0,T=21.6)"
   ]
  },
  {
   "cell_type": "code",
   "execution_count": null,
   "metadata": {},
   "outputs": [],
   "source": [
    "fig=plot_phaseplane([x1,x2,x3],[y1,y2,y3])\n",
    "plt.savefig('one_pop/figures/threepaths.pdf')"
   ]
  },
  {
   "cell_type": "markdown",
   "metadata": {},
   "source": [
    "# Figure 4"
   ]
  },
  {
   "cell_type": "code",
   "execution_count": null,
   "metadata": {},
   "outputs": [],
   "source": [
    "T = 100\n",
    "beta = 0.3\n",
    "gamma = 0.1\n",
    "sigma0 = beta/gamma\n",
    "\n",
    "def qfun(t,u):\n",
    "    x = u[0]\n",
    "    if t == T: return 0\n",
    "    elif x<1./(sigma0*(1-np.exp(-gamma*(T-t)))): return 1\n",
    "    else: return 0\n",
    "    \n",
    "x, y, t = SIR_forward(qfun=qfun,x0=0.99,y0=0.01,beta=beta,gamma=gamma)\n",
    "fig=plot_phaseplane([x],[y],color='k')\n",
    "plt.savefig('one_pop/figures/example1_xy.pdf')"
   ]
  },
  {
   "cell_type": "code",
   "execution_count": null,
   "metadata": {},
   "outputs": [],
   "source": [
    "q = np.array([qfun(tt,[xx,0]) for tt, xx in zip(t,x)])\n",
    "control = 1-q\n",
    "fig = plot_timeline(x,y,control,t)\n",
    "plt.savefig('one_pop/figures/example1_time.pdf')"
   ]
  },
  {
   "cell_type": "markdown",
   "metadata": {},
   "source": [
    "# Figure 5"
   ]
  },
  {
   "cell_type": "code",
   "execution_count": null,
   "metadata": {},
   "outputs": [],
   "source": [
    "T = 70\n",
    "beta = 0.3\n",
    "gamma = 0.1\n",
    "sigma0 = beta/gamma\n",
    "\n",
    "def qfun(t,u):\n",
    "    x = u[0]\n",
    "    if t == T: return 0\n",
    "    elif x<1./(sigma0*(1-np.exp(-gamma*(T-t)))): return 1\n",
    "    else: return 0\n",
    "    \n",
    "x1, y1, t1 = SIR_forward(qfun=qfun,x0=0.99,y0=0.01,beta=beta,gamma=gamma,T=T)"
   ]
  },
  {
   "cell_type": "code",
   "execution_count": null,
   "metadata": {},
   "outputs": [],
   "source": [
    "T = 40\n",
    "\n",
    "def qfun(t,u):\n",
    "    x = u[0]\n",
    "    if t == T: return 0\n",
    "    elif x<1./(sigma0*(1-np.exp(-gamma*(T-t)))): return 1\n",
    "    else: return 0\n",
    "    \n",
    "x2, y2, t2 = SIR_forward(qfun=qfun,x0=0.99,y0=0.01,beta=beta,gamma=gamma,T=T)"
   ]
  },
  {
   "cell_type": "code",
   "execution_count": null,
   "metadata": {},
   "outputs": [],
   "source": [
    "T = 30\n",
    "\n",
    "def qfun(t,u):\n",
    "    x = u[0]\n",
    "    if t == T: return 0\n",
    "    elif x<1./(sigma0*(1-np.exp(-gamma*(T-t)))): return 1\n",
    "    else: return 0\n",
    "    \n",
    "x3, y3, t3 = SIR_forward(qfun=qfun,x0=0.99,y0=0.01,beta=beta,gamma=gamma,T=T)"
   ]
  },
  {
   "cell_type": "code",
   "execution_count": null,
   "metadata": {},
   "outputs": [],
   "source": [
    "fig = plot_phaseplane([x1,x2,x3],[y1,y2,y3],labels=['T=70','T=40','T=30'])\n",
    "plt.legend()\n",
    "plt.savefig('one_pop/figures/diff-time-opt.pdf')"
   ]
  },
  {
   "cell_type": "markdown",
   "metadata": {},
   "source": [
    "# Figure 6"
   ]
  },
  {
   "cell_type": "markdown",
   "metadata": {},
   "source": [
    "## via PMP (necessary conditions)"
   ]
  },
  {
   "cell_type": "code",
   "execution_count": null,
   "metadata": {},
   "outputs": [],
   "source": [
    "qmax = 0.6\n",
    "N = 50000\n",
    "\n",
    "x, y, sigma, t, newguess = solve_pmp(T=100,qmax=qmax,c2=1e-3,N=N,guess=None)\n",
    "x, y, sigma, t, newguess = solve_pmp(T=100,qmax=qmax,c2=1e-4,N=N,guess=newguess)\n",
    "x, y, sigma, t, newguess = solve_pmp(T=100,qmax=qmax,c2=1e-5,N=N,guess=newguess)\n",
    "x, y, sigma, t, newguess = solve_pmp(T=100,qmax=qmax,c2=1e-6,N=N,guess=newguess)\n",
    "x, y, sigma, t, newguess = solve_pmp(T=100,qmax=qmax,c2=1e-7,N=N,guess=newguess)\n",
    "x, y, sigma, t, newguess = solve_pmp(T=100,qmax=qmax,c2=1e-8,N=N,guess=newguess)"
   ]
  },
  {
   "cell_type": "code",
   "execution_count": null,
   "metadata": {},
   "outputs": [],
   "source": [
    "fig=plot_timeline(x,y,sigma/sigma0,t)\n",
    "plt.savefig('one_pop/figures/example2_time.pdf')"
   ]
  },
  {
   "cell_type": "code",
   "execution_count": null,
   "metadata": {},
   "outputs": [],
   "source": [
    "fig=plot_phaseplane([x],[y],color='k')\n",
    "plt.savefig('one_pop/figures/example2_xy.pdf')"
   ]
  },
  {
   "cell_type": "markdown",
   "metadata": {},
   "source": [
    "## via HJB (necessary + sufficient conditions)"
   ]
  },
  {
   "cell_type": "code",
   "execution_count": null,
   "metadata": {},
   "outputs": [],
   "source": []
  },
  {
   "cell_type": "markdown",
   "metadata": {},
   "source": [
    "# Figure 7"
   ]
  },
  {
   "cell_type": "markdown",
   "metadata": {},
   "source": [
    "## Via PMP"
   ]
  },
  {
   "cell_type": "code",
   "execution_count": null,
   "metadata": {
    "scrolled": true
   },
   "outputs": [],
   "source": [
    "x0 = 0.9\n",
    "y0 = 0.1\n",
    "beta = 0.3\n",
    "gamma = 0.1\n",
    "sigma0 = beta/gamma\n",
    "c2s = [1e-2,1e-3,1e-5]\n",
    "x1, y1, sigma1, t1, newguess = solve_pmp(c2=1,T=100,guess=None,x0=x0,y0=y0)\n",
    "x1, y1, sigma1, t1, newguess = solve_pmp(c2=c2s[0],T=100,guess=newguess,x0=x0,y0=y0)\n",
    "x2, y2, sigma2, t2, newguess = solve_pmp(c2=c2s[1],T=100,guess=newguess,x0=x0,y0=y0)\n",
    "x3, y3, sigma3, t3, newguess = solve_pmp(c2=c2s[2],T=100,guess=newguess,x0=x0,y0=y0)"
   ]
  },
  {
   "cell_type": "code",
   "execution_count": null,
   "metadata": {},
   "outputs": [],
   "source": [
    "labels = ['$c_2='+str(val)+'$' for val in c2s]\n",
    "fig=plot_timelines([x1,x2,x3],[y1,y2,y3],[sigma1/sigma0,sigma2/sigma0,sigma3/sigma0],[t1,t2,t3],labels=labels)\n",
    "plt.savefig('one_pop/figures/varying_c2.pdf')"
   ]
  },
  {
   "cell_type": "code",
   "execution_count": null,
   "metadata": {},
   "outputs": [],
   "source": [
    "fig=plot_phaseplane([x1,x2,x3],[y1,y2,y3])\n",
    "plt.savefig('one_pop/figures/varying_c2_xy.pdf')"
   ]
  },
  {
   "cell_type": "markdown",
   "metadata": {},
   "source": [
    "## Via HJB"
   ]
  },
  {
   "cell_type": "code",
   "execution_count": null,
   "metadata": {},
   "outputs": [],
   "source": []
  },
  {
   "cell_type": "markdown",
   "metadata": {},
   "source": [
    "# Figure 8"
   ]
  },
  {
   "cell_type": "code",
   "execution_count": null,
   "metadata": {},
   "outputs": [],
   "source": [
    "x0 = 0.99\n",
    "y0 = 0.01\n",
    "x, y, sigma, t, newguess = solve_pmp(c2=1e-3,c3=10,ymax=0.1,T=100,guess=None,x0=x0,y0=y0)\n",
    "fig=plot_timeline(x,y,sigma/sigma0,t)\n",
    "plt.savefig('one_pop/figures/min_hosp_1_t.pdf')"
   ]
  },
  {
   "cell_type": "code",
   "execution_count": null,
   "metadata": {},
   "outputs": [],
   "source": [
    "fig = plot_phaseplane([x],[y],color='k')\n",
    "plt.savefig('one_pop/figures/min_hosp_1_xy.pdf')"
   ]
  },
  {
   "cell_type": "markdown",
   "metadata": {},
   "source": [
    "# Figure 9"
   ]
  },
  {
   "cell_type": "code",
   "execution_count": null,
   "metadata": {},
   "outputs": [],
   "source": [
    "x0 = 0.99\n",
    "y0 = 0.01\n",
    "x, y, sigma, t, newguess = solve_pmp(c2=1e-3,c3=10,ymax=0.1,T=100,guess=None,x0=x0,y0=y0)\n",
    "x, y, sigma, t, newguess = solve_pmp(c2=1e-3,c3=1,ymax=0.1,T=100,guess=newguess,x0=x0,y0=y0)\n",
    "fig=plot_timeline(x,y,sigma/sigma0,t)\n",
    "plt.savefig('one_pop/figures/min_hosp_2_t.pdf')"
   ]
  },
  {
   "cell_type": "code",
   "execution_count": null,
   "metadata": {},
   "outputs": [],
   "source": [
    "fig = plot_phaseplane([x],[y],color='k')\n",
    "plt.savefig('one_pop/figures/min_hosp_2_xy.pdf')"
   ]
  },
  {
   "cell_type": "markdown",
   "metadata": {},
   "source": [
    "# Figure 10"
   ]
  },
  {
   "cell_type": "code",
   "execution_count": null,
   "metadata": {},
   "outputs": [],
   "source": [
    "N = 1\n",
    "alpha = 0.006  # IFR\n",
    "eta = 2*alpha # Increase in IFR when no medical care is given\n",
    "d = 1e4 # Days left of life for average victim\n",
    "eps = 0.2  # Fraction of value of a day of life that is lost due to intervention\n",
    "c1 = N*alpha\n",
    "c2 = N*eps/d\n",
    "c3 = eta*N\n",
    "gamma = 1./10\n",
    "sigma0 = 2.5\n",
    "beta = sigma0*gamma\n",
    "ymax=0.02\n",
    "y0 = 1e-3\n",
    "x0 = 1-y0\n",
    "T = 200\n",
    "x, y, sigma, t, newguess = solve_pmp(beta=beta,gamma=gamma,c1=c1,c2=4*c2,c3=c3,ymax=ymax,T=T,guess=None,x0=x0,y0=y0,N=10000)\n",
    "x, y, sigma, t, newguess = solve_pmp(beta=beta,gamma=gamma,c1=c1,c2=2*c2,c3=c3,ymax=ymax,T=T,guess=None,x0=x0,y0=y0,N=10000)\n",
    "x, y, sigma, t, newguess = solve_pmp(beta=beta,gamma=gamma,c1=c1,c2=c2,c3=c3,ymax=ymax,T=T,guess=newguess,x0=x0,y0=y0,N=10000)\n",
    "\n",
    "fig=plot_timeline(x,y,sigma/sigma0,t)\n",
    "plt.savefig('one_pop/figures/real_world_1_t.pdf')"
   ]
  },
  {
   "cell_type": "code",
   "execution_count": null,
   "metadata": {},
   "outputs": [],
   "source": [
    "fig = plot_phaseplane([x],[y],beta=beta,gamma=gamma,color='k')\n",
    "plt.savefig('one_pop/figures/real_world_1_xy.pdf')"
   ]
  },
  {
   "cell_type": "code",
   "execution_count": null,
   "metadata": {},
   "outputs": [],
   "source": [
    "print(c1,c2,c3)"
   ]
  },
  {
   "cell_type": "markdown",
   "metadata": {},
   "source": [
    "# Figure 11"
   ]
  },
  {
   "cell_type": "code",
   "execution_count": null,
   "metadata": {},
   "outputs": [],
   "source": [
    "N = 1\n",
    "alpha = 0.012  # IFR\n",
    "eta = 2*alpha # Increase in IFR when no medical care is given\n",
    "d = 1e4 # Days left of life for average victim\n",
    "eps = 0.05  # Fraction of value of a day of life that is lost due to intervention\n",
    "c1 = N*alpha\n",
    "c2 = N*eps/d\n",
    "c3 = eta*N\n",
    "gamma = 1./10\n",
    "sigma0 = 2.5\n",
    "beta = sigma0*gamma\n",
    "ymax=0.02\n",
    "y0 = 1e-3\n",
    "x0 = 1-y0\n",
    "T = 200\n",
    "x, y, sigma, t, newguess = solve_pmp(beta=beta,gamma=gamma,c1=c1,c2=20*c2,c3=c3,ymax=ymax,T=T,guess=None,x0=x0,y0=y0,N=10000)\n",
    "x, y, sigma, t, newguess = solve_pmp(beta=beta,gamma=gamma,c1=c1,c2=6*c2,c3=c3,ymax=ymax,T=T,guess=newguess,x0=x0,y0=y0,N=10000)\n",
    "x, y, sigma, t, newguess = solve_pmp(beta=beta,gamma=gamma,c1=c1,c2=4*c2,c3=c3,ymax=ymax,T=T,guess=newguess,x0=x0,y0=y0,N=10000)\n",
    "x, y, sigma, t, newguess = solve_pmp(beta=beta,gamma=gamma,c1=c1,c2=2*c2,c3=c3,ymax=ymax,T=T,guess=newguess,x0=x0,y0=y0,N=10000)\n",
    "x, y, sigma, t, newguess = solve_pmp(beta=beta,gamma=gamma,c1=c1,c2=c2,c3=c3,ymax=ymax,T=T,guess=newguess,x0=x0,y0=y0,N=10000)\n",
    "\n",
    "fig=plot_timeline(x,y,sigma/sigma0,t)\n",
    "plt.savefig('one_pop/figures/real_world_2_t.pdf')"
   ]
  },
  {
   "cell_type": "code",
   "execution_count": null,
   "metadata": {},
   "outputs": [],
   "source": [
    "fig = plot_phaseplane([x],[y],beta=beta,gamma=gamma,color='k')\n",
    "plt.savefig('one_pop/figures/real_world_2_xy.pdf')"
   ]
  },
  {
   "cell_type": "code",
   "execution_count": null,
   "metadata": {},
   "outputs": [],
   "source": [
    "print(c1,c2,c3)"
   ]
  },
  {
   "cell_type": "markdown",
   "metadata": {},
   "source": [
    "# Figure 12"
   ]
  },
  {
   "cell_type": "code",
   "execution_count": null,
   "metadata": {},
   "outputs": [],
   "source": [
    "N = 1\n",
    "alpha = 0.006  # IFR\n",
    "eta = 2*alpha # Increase in IFR when no medical care is given\n",
    "d = 1e4 # Days left of life for average victim\n",
    "eps = 0.5  # Fraction of value of a day of life that is lost due to intervention\n",
    "c1 = N*alpha\n",
    "c2 = N*eps/d\n",
    "c3 = eta*N\n",
    "gamma = 1./10\n",
    "sigma0 = 2.5\n",
    "beta = sigma0*gamma\n",
    "ymax=0.02\n",
    "y0 = 1e-3\n",
    "x0 = 1-y0\n",
    "T = 200\n",
    "x, y, sigma, t, newguess = solve_pmp(beta=beta,gamma=gamma,c1=c1,c2=4*c2,c3=c3,ymax=ymax,T=T,guess=None,x0=x0,y0=y0,N=10000)\n",
    "x, y, sigma, t, newguess = solve_pmp(beta=beta,gamma=gamma,c1=c1,c2=2*c2,c3=c3,ymax=ymax,T=T,guess=None,x0=x0,y0=y0,N=10000)\n",
    "x, y, sigma, t, newguess = solve_pmp(beta=beta,gamma=gamma,c1=c1,c2=c2,c3=c3,ymax=ymax,T=T,guess=newguess,x0=x0,y0=y0,N=10000)\n",
    "\n",
    "fig=plot_timeline(x,y,sigma/sigma0,t)\n",
    "plt.savefig('one_pop/figures/real_world_3_t.pdf')"
   ]
  },
  {
   "cell_type": "code",
   "execution_count": null,
   "metadata": {},
   "outputs": [],
   "source": [
    "fig = plot_phaseplane([x],[y],beta=beta,gamma=gamma,color='k')\n",
    "plt.savefig('one_pop/figures/real_world_3_xy.pdf')"
   ]
  },
  {
   "cell_type": "code",
   "execution_count": null,
   "metadata": {},
   "outputs": [],
   "source": []
  }
 ],
 "metadata": {
  "kernelspec": {
   "display_name": "Python 3",
   "language": "python",
   "name": "python3"
  },
  "language_info": {
   "codemirror_mode": {
    "name": "ipython",
    "version": 3
   },
   "file_extension": ".py",
   "mimetype": "text/x-python",
   "name": "python",
   "nbconvert_exporter": "python",
   "pygments_lexer": "ipython3",
   "version": "3.6.5"
  },
  "toc": {
   "base_numbering": 1,
   "nav_menu": {},
   "number_sections": true,
   "sideBar": true,
   "skip_h1_title": false,
   "title_cell": "Table of Contents",
   "title_sidebar": "Contents",
   "toc_cell": false,
   "toc_position": {},
   "toc_section_display": true,
   "toc_window_display": false
  }
 },
 "nbformat": 4,
 "nbformat_minor": 2
}

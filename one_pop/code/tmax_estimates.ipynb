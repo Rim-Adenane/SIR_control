{
 "cells": [
  {
   "cell_type": "markdown",
   "metadata": {},
   "source": [
    "Experimental code for testing some approximations of the SIR model."
   ]
  },
  {
   "cell_type": "code",
   "execution_count": null,
   "metadata": {},
   "outputs": [],
   "source": [
    "%matplotlib inline\n",
    "import numpy as np\n",
    "import matplotlib.pyplot as plt\n",
    "import matplotlib\n",
    "import matplotlib.gridspec as gridspec\n",
    "plt.style.use('seaborn-paper')\n",
    "params = {'legend.fontsize': 'x-large',\n",
    "          'figure.figsize': (15, 5),\n",
    "         'axes.labelsize': 'x-large',\n",
    "         'axes.titlesize':'x-large',\n",
    "         'xtick.labelsize':'x-large',\n",
    "         'ytick.labelsize':'x-large'}\n",
    "plt.rcParams.update(params)"
   ]
  },
  {
   "cell_type": "code",
   "execution_count": null,
   "metadata": {},
   "outputs": [],
   "source": [
    "from scipy.integrate import solve_ivp\n",
    "\n",
    "def SIR_estimates(beta=0.3, gamma=0.1, x0=0.99, y0=0.01, T=100):\n",
    "\n",
    "    sigma = beta/gamma\n",
    "    print(sigma)\n",
    "    du = np.zeros(3)\n",
    "    u0 = np.zeros(3)\n",
    "    \n",
    "    def f(t,u):\n",
    "        du[0] = -beta*u[1]*u[0]\n",
    "        du[1] = beta*u[1]*u[0] - gamma*u[1]\n",
    "        return du\n",
    "\n",
    "    # Initial values\n",
    "    u0[0] = x0\n",
    "    u0[1] = y0 # Initial infected\n",
    "\n",
    "    times = np.linspace(0,T,1000)\n",
    "    solution = solve_ivp(f,[0,T],u0,t_eval=times,method='RK23',max_step=0.1)\n",
    "    S = solution.y[0,:]\n",
    "    I = solution.y[1,:]\n",
    "    \n",
    "    fig, ax = plt.subplots(1,2)\n",
    "    ax[0].plot(times,S,'-',lw=3)\n",
    "    ax[0].plot(times,I,'-',lw=3)\n",
    "    ax[0].legend(['Susceptible','Infected',r'$x_\\infty$'])\n",
    "    est1 = np.log(x0*sigma)/(beta*y0)\n",
    "    #ax[0].plot([est1,est1],[0,1],'--k')\n",
    "    ymax = y0 + x0 - (1+np.log(x0*sigma))/sigma\n",
    "    est2 = np.log(x0*sigma)/(beta*ymax)\n",
    "    ax[0].plot([est2,est2],[0,1],'--k',lw=3)\n",
    "    est3 = np.log((sigma-1)/(sigma*y0))/(beta-gamma)\n",
    "    ax[0].plot([est3,est3],[0,1],'--r')\n",
    "    z0 = 1-x0-y0\n",
    "    est4 = np.log((sigma-1-np.log(sigma*x0)-z0*sigma)/(sigma*y0))/(beta-gamma)\n",
    "    ax[0].plot([est4,est4],[0,1],'--b')\n",
    "    \n",
    "    N1 = 10; N2=5\n",
    "    Y, X = np.mgrid[0:1:100j, 0:1:100j]\n",
    "    U = -beta*X*Y\n",
    "    V = beta*X*Y - gamma*Y\n",
    "    x_points = list(np.linspace(0,1,N1)) + list(np.linspace(1./sigma,1,N2))\n",
    "    y_points = list(1.-np.linspace(0,1,N1)) + [1.e-6]*N2\n",
    "    seed_points = np.array([x_points, y_points])\n",
    "\n",
    "    ax[1].streamplot(X, Y, U, V, start_points=seed_points.T,integration_direction='forward',maxlength=1000,broken_streamlines=False)\n",
    "    ax[1].plot([0,1],[1,0],'-k')\n",
    "    ax[1].plot([1./sigma,1./sigma],[0,1-1./sigma],'--k',alpha=0.5)\n",
    "    ax[1].axis('image');\n",
    "    ax[1].set_xlabel('x'); ax[1].set_ylabel('y');\n",
    "    ax[1].plot(S,I,lw=3); ax[1].set_xlim(0,1); ax[1].set_ylim(0,1)\n",
    "    ax[1].plot([gamma/beta, gamma/beta],[0,1],'--k',alpha=0.5)\n",
    "    return S, I"
   ]
  },
  {
   "cell_type": "code",
   "execution_count": null,
   "metadata": {},
   "outputs": [],
   "source": [
    "x0 = 0.4; y0 = 0.2\n",
    "S1, I1 = SIR_estimates(x0=x0,y0=y0,T=20)"
   ]
  },
  {
   "cell_type": "code",
   "execution_count": null,
   "metadata": {},
   "outputs": [],
   "source": [
    "x0 = 0.99; y0 = 0.01; beta=0.3; gamma=0.1\n",
    "x, y = SIR_estimates(x0=x0,y0=y0,T=50,beta=beta,gamma=gamma)"
   ]
  },
  {
   "cell_type": "code",
   "execution_count": null,
   "metadata": {},
   "outputs": [],
   "source": [
    "sigma = beta/gamma\n",
    "yy = y0 - (x-x0) + np.log(x/x0)/sigma\n",
    "plt.plot(yy)\n",
    "plt.plot(y)"
   ]
  },
  {
   "cell_type": "code",
   "execution_count": null,
   "metadata": {},
   "outputs": [],
   "source": [
    "sigma = 5.\n",
    "tt = 17\n",
    "np.exp((0.4*tt))*y0"
   ]
  },
  {
   "cell_type": "code",
   "execution_count": null,
   "metadata": {},
   "outputs": [],
   "source": [
    "(sigma-1)/sigma"
   ]
  },
  {
   "cell_type": "code",
   "execution_count": null,
   "metadata": {},
   "outputs": [],
   "source": []
  }
 ],
 "metadata": {
  "kernelspec": {
   "display_name": "Python 3",
   "language": "python",
   "name": "python3"
  },
  "language_info": {
   "codemirror_mode": {
    "name": "ipython",
    "version": 3
   },
   "file_extension": ".py",
   "mimetype": "text/x-python",
   "name": "python",
   "nbconvert_exporter": "python",
   "pygments_lexer": "ipython3",
   "version": "3.6.5"
  },
  "toc": {
   "base_numbering": 1,
   "nav_menu": {},
   "number_sections": true,
   "sideBar": true,
   "skip_h1_title": false,
   "title_cell": "Table of Contents",
   "title_sidebar": "Contents",
   "toc_cell": false,
   "toc_position": {},
   "toc_section_display": true,
   "toc_window_display": false
  }
 },
 "nbformat": 4,
 "nbformat_minor": 2
}

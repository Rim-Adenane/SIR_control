{
 "cells": [
  {
   "cell_type": "code",
   "execution_count": null,
   "metadata": {},
   "outputs": [],
   "source": [
    "import sys\n",
    "sys.path.append('.')\n",
    "from SIR_control_vaccination import SIR_forward, SIR_adjoint, SIR_forward_with_vaccination\n",
    "import matplotlib.pyplot as plt\n",
    "import numpy as np"
   ]
  },
  {
   "cell_type": "code",
   "execution_count": null,
   "metadata": {},
   "outputs": [],
   "source": [
    "x_young, x_old, y_young, y_old, t = SIR_forward()"
   ]
  },
  {
   "cell_type": "code",
   "execution_count": null,
   "metadata": {},
   "outputs": [],
   "source": [
    "plt.plot(t,x_young)\n",
    "plt.plot(t,x_old)\n",
    "plt.plot(t,y_young)\n",
    "plt.plot(t,y_old);\n",
    "plt.legend(['x_young','x_old','y_young','y_old'])"
   ]
  },
  {
   "cell_type": "code",
   "execution_count": null,
   "metadata": {},
   "outputs": [],
   "source": [
    "xx = np.vstack([x_young, x_old])\n",
    "yy = np.vstack([y_young, y_old])"
   ]
  },
  {
   "cell_type": "code",
   "execution_count": null,
   "metadata": {},
   "outputs": [],
   "source": [
    "adjoint, t = SIR_adjoint(xx, yy, t)"
   ]
  },
  {
   "cell_type": "code",
   "execution_count": null,
   "metadata": {},
   "outputs": [],
   "source": [
    "plt.plot(t,adjoint[0,:])\n",
    "plt.plot(t,adjoint[1,:])\n",
    "plt.legend(['young','old'])"
   ]
  },
  {
   "cell_type": "code",
   "execution_count": null,
   "metadata": {},
   "outputs": [],
   "source": [
    "plt.plot(t,adjoint[0,:]+adjoint[0,0])\n",
    "plt.plot(t,adjoint[1,:]+adjoint[1,0])\n",
    "plt.legend(['young','old'])"
   ]
  },
  {
   "cell_type": "code",
   "execution_count": null,
   "metadata": {},
   "outputs": [],
   "source": [
    "# When this is positive, it's better to vaccinate the elderly\n",
    "plt.plot(t,(adjoint[1,:]-adjoint[1,0])-(adjoint[0,:]-adjoint[0,0]))"
   ]
  },
  {
   "cell_type": "code",
   "execution_count": null,
   "metadata": {},
   "outputs": [],
   "source": [
    "afun = lambda t : np.minimum(0.5,0.5*t/100)\n",
    "\n",
    "ttt = np.linspace(0,365)\n",
    "plt.plot(ttt, afun(ttt))"
   ]
  },
  {
   "cell_type": "code",
   "execution_count": null,
   "metadata": {},
   "outputs": [],
   "source": [
    "lamlam = np.vstack([adjoint[0,:],adjoint[1,:]])\n",
    "lamlam.shape"
   ]
  },
  {
   "cell_type": "code",
   "execution_count": null,
   "metadata": {},
   "outputs": [],
   "source": [
    "x_young, x_old, y_young, y_old, u_young, u_old, t = SIR_forward_with_vaccination(afun,lamlam,t)"
   ]
  },
  {
   "cell_type": "code",
   "execution_count": null,
   "metadata": {},
   "outputs": [],
   "source": [
    "plt.figure(figsize=(10,6))\n",
    "lw=3\n",
    "plt.plot(t,x_young,lw=lw)\n",
    "plt.plot(t,x_old,lw=lw)\n",
    "plt.plot(t,y_young,lw=lw)\n",
    "plt.plot(t,y_old,lw=lw);\n",
    "plt.plot(t,u_young,lw=lw)\n",
    "plt.plot(t,u_old,lw=lw);\n",
    "plt.legend(['x_young','x_old','y_young','y_old','u_young','u_old'],fontsize=15)\n",
    "plt.savefig('test1.pdf')"
   ]
  },
  {
   "cell_type": "code",
   "execution_count": null,
   "metadata": {},
   "outputs": [],
   "source": [
    "beta = np.array([[0.2,0.15],[0.15,0.228]])\n",
    "\n",
    "afun = lambda t : np.minimum(0.5,0.5*t/100)\n",
    "\n",
    "x_young, x_old, y_young, y_old, t = SIR_forward(beta=beta)\n",
    "xx = np.vstack([x_young, x_old])\n",
    "yy = np.vstack([y_young, y_old])\n",
    "adjoint, t = SIR_adjoint(xx, yy, t, beta=beta)\n",
    "lamlam = np.vstack([adjoint[0,:],adjoint[1,:]])\n",
    "x_young, x_old, y_young, y_old, u_young, u_old, t = SIR_forward_with_vaccination(afun,lamlam,t)\n",
    "\n",
    "plt.plot(t,x_young)\n",
    "plt.plot(t,x_old)\n",
    "plt.plot(t,y_young)\n",
    "plt.plot(t,y_old);\n",
    "plt.plot(t,u_young)\n",
    "plt.plot(t,u_old);\n",
    "plt.legend(['x_young','x_old','y_young','y_old','u_young','u_old'])"
   ]
  },
  {
   "cell_type": "code",
   "execution_count": null,
   "metadata": {},
   "outputs": [],
   "source": [
    "plt.plot(t[::-1],lamlam[0,:]+0.001)\n",
    "plt.plot(t[::-1],lamlam[1,:]+0.01)\n",
    "plt.legend(['young','old'])"
   ]
  },
  {
   "cell_type": "code",
   "execution_count": null,
   "metadata": {
    "scrolled": true
   },
   "outputs": [],
   "source": [
    "beta = np.array([[0.15,0.15],[0.15,0.15]])\n",
    "\n",
    "afun = lambda t : np.minimum(0.25,0.25*t/365)\n",
    "\n",
    "x_young, x_old, y_young, y_old, t = SIR_forward(beta=beta)\n",
    "xx = np.vstack([x_young, x_old])\n",
    "yy = np.vstack([y_young, y_old])\n",
    "adjoint, t = SIR_adjoint(xx, yy, t, beta=beta)\n",
    "lamlam = np.vstack([adjoint[0,:],adjoint[1,:]])\n",
    "for i in range(2):\n",
    "    x_young, x_old, y_young, y_old, u_young, u_old, t = SIR_forward_with_vaccination(afun,lamlam,t)\n",
    "    xx = np.vstack([x_young, x_old])\n",
    "    yy = np.vstack([y_young, y_old])\n",
    "    adjoint, t = SIR_adjoint(xx, yy, t, beta=beta)\n",
    "    lamlam = np.vstack([adjoint[0,:],adjoint[1,:]])\n",
    "\n",
    "x_young, x_old, y_young, y_old, u_young, u_old, t = SIR_forward_with_vaccination(afun,lamlam,t)\n",
    "\n",
    "plt.figure(figsize=(10,6))\n",
    "lw=3\n",
    "plt.plot(t,x_young,lw=lw)\n",
    "plt.plot(t,x_old,lw=lw)\n",
    "plt.plot(t,y_young,lw=lw)\n",
    "plt.plot(t,y_old,lw=lw);\n",
    "plt.plot(t,u_young,lw=lw)\n",
    "plt.plot(t,u_old,lw=lw);\n",
    "plt.legend(['x_young','x_old','y_young','y_old','u_young','u_old'],fontsize=15);"
   ]
  },
  {
   "cell_type": "code",
   "execution_count": null,
   "metadata": {},
   "outputs": [],
   "source": []
  }
 ],
 "metadata": {
  "kernelspec": {
   "display_name": "Python 3",
   "language": "python",
   "name": "python3"
  },
  "language_info": {
   "codemirror_mode": {
    "name": "ipython",
    "version": 3
   },
   "file_extension": ".py",
   "mimetype": "text/x-python",
   "name": "python",
   "nbconvert_exporter": "python",
   "pygments_lexer": "ipython3",
   "version": "3.6.5"
  },
  "toc": {
   "base_numbering": 1,
   "nav_menu": {},
   "number_sections": true,
   "sideBar": true,
   "skip_h1_title": false,
   "title_cell": "Table of Contents",
   "title_sidebar": "Contents",
   "toc_cell": false,
   "toc_position": {},
   "toc_section_display": true,
   "toc_window_display": false
  }
 },
 "nbformat": 4,
 "nbformat_minor": 2
}
